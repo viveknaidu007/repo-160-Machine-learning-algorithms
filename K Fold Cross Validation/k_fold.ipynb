{
 "cells": [
  {
   "cell_type": "code",
   "execution_count": 1,
   "id": "2e9ed5d4-2a90-4fae-98af-03b66f6cb167",
   "metadata": {},
   "outputs": [],
   "source": [
    "from sklearn.linear_model import LogisticRegression\n",
    "from sklearn.svm import SVC\n",
    "from sklearn.ensemble import RandomForestClassifier\n",
    "\n",
    "import numpy as np\n",
    "from sklearn.datasets import load_digits\n",
    "import matplotlib.pyplot as plt\n",
    "\n",
    "digits = load_digits()"
   ]
  },
  {
   "cell_type": "code",
   "execution_count": 2,
   "id": "755248bd-7ccd-4a33-a443-2e96a6bcccf7",
   "metadata": {},
   "outputs": [],
   "source": [
    "from sklearn.model_selection import train_test_split\n",
    "\n",
    "X_train, X_test, y_train, y_test = train_test_split(digits.data, digits.target, test_size=0.3, random_state=42)"
   ]
  },
  {
   "cell_type": "markdown",
   "id": "9f087db9-783c-4259-89ca-f90727010150",
   "metadata": {},
   "source": [
    "### Logistic Regression"
   ]
  },
  {
   "cell_type": "code",
   "execution_count": 3,
   "id": "30dffc81-cf0a-4eb9-9cd5-96c9bde43428",
   "metadata": {},
   "outputs": [
    {
     "data": {
      "text/plain": [
       "0.9537037037037037"
      ]
     },
     "execution_count": 3,
     "metadata": {},
     "output_type": "execute_result"
    }
   ],
   "source": [
    "lr = LogisticRegression(solver='liblinear',multi_class='ovr')\n",
    "lr.fit(X_train, y_train)\n",
    "lr.score(X_test, y_test)"
   ]
  },
  {
   "cell_type": "markdown",
   "id": "5555a53f-fd45-4309-8b25-c7c34e616538",
   "metadata": {},
   "source": [
    "### Support Vector Machine (SVM)"
   ]
  },
  {
   "cell_type": "code",
   "execution_count": 7,
   "id": "20433ca0-6555-450e-9d0f-8a162318b172",
   "metadata": {},
   "outputs": [
    {
     "data": {
      "text/plain": [
       "0.987037037037037"
      ]
     },
     "execution_count": 7,
     "metadata": {},
     "output_type": "execute_result"
    }
   ],
   "source": [
    "svm = SVC(gamma='scale')\n",
    "svm.fit(X_train, y_train)\n",
    "svm.score(X_test, y_test)"
   ]
  },
  {
   "cell_type": "markdown",
   "id": "0e2c4e19-b56f-481c-a1e2-525c37b234ad",
   "metadata": {},
   "source": [
    "### Random Forest Classifier"
   ]
  },
  {
   "cell_type": "code",
   "execution_count": 9,
   "id": "39f1116d",
   "metadata": {},
   "outputs": [
    {
     "data": {
      "text/plain": [
       "0.9740740740740741"
      ]
     },
     "execution_count": 9,
     "metadata": {},
     "output_type": "execute_result"
    }
   ],
   "source": [
    "rfc = RandomForestClassifier(n_estimators=40)\n",
    "rfc.fit(X_train, y_train)\n",
    "rfc.score(X_test, y_test)"
   ]
  },
  {
   "cell_type": "markdown",
   "id": "dae4a824-837d-474b-9a4a-1146936cbaea",
   "metadata": {},
   "source": [
    "### KFold cross validation"
   ]
  },
  {
   "cell_type": "code",
   "execution_count": 10,
   "id": "23f08db1-b398-4342-b5f6-e5413391589a",
   "metadata": {},
   "outputs": [],
   "source": [
    "from sklearn.model_selection import KFold\n",
    "kf = KFold(n_splits=3) # how many folds you wanna take"
   ]
  },
  {
   "cell_type": "code",
   "execution_count": 12,
   "id": "c56fee54-b9e3-4bdd-92ff-be0becf13fa6",
   "metadata": {},
   "outputs": [
    {
     "name": "stdout",
     "output_type": "stream",
     "text": [
      "[3 4 5 6 7 8] [0 1 2]\n",
      "[0 1 2 6 7 8] [3 4 5]\n",
      "[0 1 2 3 4 5] [6 7 8]\n"
     ]
    }
   ],
   "source": [
    "# basic example on how it works\n",
    "for train_index, test_index in kf.split([1,2,3,4,5,6,7,8,9]):\n",
    "    print(train_index, test_index)"
   ]
  },
  {
   "cell_type": "code",
   "execution_count": 16,
   "id": "de4fdea2-c643-4b8e-94e6-efa5bf341b33",
   "metadata": {},
   "outputs": [],
   "source": [
    "# get score function\n",
    "def get_score(model, X_train, X_test, y_train, y_test):\n",
    "    model.fit(X_train, y_train)\n",
    "    return model.score(X_test, y_test)"
   ]
  },
  {
   "cell_type": "code",
   "execution_count": 25,
   "id": "f5904c56-e344-4c58-ba96-81771430c3db",
   "metadata": {},
   "outputs": [],
   "source": [
    "from sklearn.model_selection import StratifiedKFold\n",
    "folds = StratifiedKFold(n_splits=3)\n",
    "\n",
    "score_logistic = [] # Logistic Regression\n",
    "score_svc = [] # Support Vector Machine\n",
    "score_rf = [] # Random Forest\n",
    "\n",
    "for train_index, test_index in folds.split(digits.data, digits.target):\n",
    "    X_train, X_test, y_train, y_test = digits.data[train_index], digits.data[test_index], digits.target[train_index], digits.target[test_index]\n",
    "    score_logistic.append(get_score(LogisticRegression(solver='liblinear',multi_class='ovr'), X_train, X_test, y_train, y_test))\n",
    "    score_svc.append(get_score(SVC(gamma='scale'), X_train, X_test, y_train, y_test))\n",
    "    score_rf.append(get_score(RandomForestClassifier(n_estimators=40), X_train, X_test, y_train, y_test))"
   ]
  },
  {
   "cell_type": "code",
   "execution_count": 26,
   "id": "0edf5315-173d-46c8-8dbf-0bfb930650c2",
   "metadata": {},
   "outputs": [
    {
     "data": {
      "text/plain": [
       "[0.8948247078464107, 0.9532554257095158, 0.9098497495826378]"
      ]
     },
     "execution_count": 26,
     "metadata": {},
     "output_type": "execute_result"
    }
   ],
   "source": [
    "score_logistic"
   ]
  },
  {
   "cell_type": "code",
   "execution_count": 27,
   "id": "0d7dfd10-4fd6-4dee-a97a-e069b59b7598",
   "metadata": {},
   "outputs": [
    {
     "data": {
      "text/plain": [
       "[0.9649415692821369, 0.9799666110183639, 0.9649415692821369]"
      ]
     },
     "execution_count": 27,
     "metadata": {},
     "output_type": "execute_result"
    }
   ],
   "source": [
    "score_svc"
   ]
  },
  {
   "cell_type": "code",
   "execution_count": 28,
   "id": "6fdec61f-174b-4cd8-a508-976ddddbfa88",
   "metadata": {},
   "outputs": [
    {
     "data": {
      "text/plain": [
       "[0.9232053422370617, 0.9616026711185309, 0.9181969949916527]"
      ]
     },
     "execution_count": 28,
     "metadata": {},
     "output_type": "execute_result"
    }
   ],
   "source": [
    "score_rf"
   ]
  },
  {
   "cell_type": "markdown",
   "id": "f7cc560e-b5d4-4a2c-a4d0-09fb7eeabbb4",
   "metadata": {},
   "source": [
    "### Cross Validation Score\n",
    "Cross validation do the same thing as KFold, more easily."
   ]
  },
  {
   "cell_type": "code",
   "execution_count": 29,
   "id": "6ee75756-f931-4a6d-93cb-7a7b5f80a845",
   "metadata": {},
   "outputs": [],
   "source": [
    "from sklearn.model_selection import cross_val_score\n",
    "\n",
    "# function for cross validation score\n",
    "def cross_func(model):\n",
    "    return cross_val_score(model, digits.data, digits.target, cv=3)"
   ]
  },
  {
   "cell_type": "markdown",
   "id": "aa3e91a0-3e6d-4514-bccd-f8fbba2accfa",
   "metadata": {},
   "source": [
    "### Logistic Regression"
   ]
  },
  {
   "cell_type": "code",
   "execution_count": 30,
   "id": "8dd6df76-0d78-4165-b26c-288dc506bf8e",
   "metadata": {},
   "outputs": [
    {
     "data": {
      "text/plain": [
       "array([0.89482471, 0.95325543, 0.90984975])"
      ]
     },
     "execution_count": 30,
     "metadata": {},
     "output_type": "execute_result"
    }
   ],
   "source": [
    "cross_func(LogisticRegression(solver='liblinear',multi_class='ovr'))"
   ]
  },
  {
   "cell_type": "markdown",
   "id": "d42d0e66-fcd5-408f-8438-3f6d99a3766c",
   "metadata": {},
   "source": [
    "### Support Vector Machine (SVM)"
   ]
  },
  {
   "cell_type": "code",
   "execution_count": 31,
   "id": "64a9188e-5a14-4c06-b6c5-4c62546f39a2",
   "metadata": {},
   "outputs": [
    {
     "data": {
      "text/plain": [
       "array([0.96494157, 0.97996661, 0.96494157])"
      ]
     },
     "execution_count": 31,
     "metadata": {},
     "output_type": "execute_result"
    }
   ],
   "source": [
    "cross_func(SVC(gamma='scale'))"
   ]
  },
  {
   "cell_type": "markdown",
   "id": "c91c0d84-b42a-4649-b9a1-a4a838932e1a",
   "metadata": {},
   "source": [
    "### Random Forest Classifier"
   ]
  },
  {
   "cell_type": "code",
   "execution_count": 38,
   "id": "0200fa10-f117-401c-9df8-bd38cc39ae88",
   "metadata": {},
   "outputs": [
    {
     "data": {
      "text/plain": [
       "array([0.91819699, 0.93155259, 0.87813022])"
      ]
     },
     "execution_count": 38,
     "metadata": {},
     "output_type": "execute_result"
    }
   ],
   "source": [
    "cross_func(RandomForestClassifier(n_estimators=10))"
   ]
  },
  {
   "cell_type": "code",
   "execution_count": 41,
   "id": "53e57379-7cd5-4cd6-bd61-83cf1bc6c496",
   "metadata": {},
   "outputs": [
    {
     "data": {
      "text/plain": [
       "array([0.93155259, 0.95325543, 0.93155259])"
      ]
     },
     "execution_count": 41,
     "metadata": {},
     "output_type": "execute_result"
    }
   ],
   "source": [
    "cross_func(RandomForestClassifier(n_estimators=40))"
   ]
  },
  {
   "cell_type": "code",
   "execution_count": 35,
   "id": "9af4506f-708b-4ce7-a451-ed391ff71f41",
   "metadata": {},
   "outputs": [
    {
     "data": {
      "text/plain": [
       "array([0.93489149, 0.96327212, 0.92654424])"
      ]
     },
     "execution_count": 35,
     "metadata": {},
     "output_type": "execute_result"
    }
   ],
   "source": [
    "cross_func(RandomForestClassifier(n_estimators=60))"
   ]
  },
  {
   "cell_type": "code",
   "execution_count": 36,
   "id": "5821bfaa-29a5-43da-9b65-0451870a2215",
   "metadata": {},
   "outputs": [
    {
     "data": {
      "text/plain": [
       "array([0.92821369, 0.94991653, 0.92487479])"
      ]
     },
     "execution_count": 36,
     "metadata": {},
     "output_type": "execute_result"
    }
   ],
   "source": [
    "cross_func(RandomForestClassifier(n_estimators=100))"
   ]
  },
  {
   "cell_type": "markdown",
   "id": "7d25641a-2b99-4eb4-bf57-6915987018eb",
   "metadata": {},
   "source": [
    "**n_estimators=40** has high accuracy score: **0.93155259, 0.95325543, 0.93155259**"
   ]
  },
  {
   "cell_type": "markdown",
   "id": "331a70a1-22cc-4405-b353-35b924403f54",
   "metadata": {},
   "source": [
    "### Parameter tunning for Random Forest"
   ]
  },
  {
   "cell_type": "code",
   "execution_count": 43,
   "id": "73835308-f0ff-4d2c-9fd4-cabea8ed7e84",
   "metadata": {},
   "outputs": [
    {
     "data": {
      "text/plain": [
       "0.8731346989447548"
      ]
     },
     "execution_count": 43,
     "metadata": {},
     "output_type": "execute_result"
    }
   ],
   "source": [
    "score1 = cross_val_score(RandomForestClassifier(n_estimators=5), digits.data, digits.target, cv=10)\n",
    "np.average(score1)"
   ]
  },
  {
   "cell_type": "code",
   "execution_count": 44,
   "id": "c2daea1b-b480-4f78-8e44-f15c9d366666",
   "metadata": {},
   "outputs": [
    {
     "data": {
      "text/plain": [
       "0.9159931719428925"
      ]
     },
     "execution_count": 44,
     "metadata": {},
     "output_type": "execute_result"
    }
   ],
   "source": [
    "score2 = cross_val_score(RandomForestClassifier(n_estimators=10), digits.data, digits.target, cv=10)\n",
    "np.average(score2)"
   ]
  },
  {
   "cell_type": "code",
   "execution_count": 45,
   "id": "55c29e94-5165-4f59-bb8c-4a2df4c92d9a",
   "metadata": {},
   "outputs": [
    {
     "data": {
      "text/plain": [
       "0.938227808814401"
      ]
     },
     "execution_count": 45,
     "metadata": {},
     "output_type": "execute_result"
    }
   ],
   "source": [
    "score3 = cross_val_score(RandomForestClassifier(n_estimators=30), digits.data, digits.target, cv=10)\n",
    "np.average(score3)"
   ]
  },
  {
   "cell_type": "code",
   "execution_count": 46,
   "id": "f21a3c48-0859-4d63-9490-f630225fec21",
   "metadata": {},
   "outputs": [
    {
     "data": {
      "text/plain": [
       "0.9476970825574178"
      ]
     },
     "execution_count": 46,
     "metadata": {},
     "output_type": "execute_result"
    }
   ],
   "source": [
    "score4 = cross_val_score(RandomForestClassifier(n_estimators=40), digits.data, digits.target, cv=10)\n",
    "np.average(score4)"
   ]
  },
  {
   "cell_type": "code",
   "execution_count": 47,
   "id": "ebc1d556-63d9-4dbd-a923-baf1b8698a5d",
   "metadata": {},
   "outputs": [
    {
     "data": {
      "text/plain": [
       "0.9449162011173184"
      ]
     },
     "execution_count": 47,
     "metadata": {},
     "output_type": "execute_result"
    }
   ],
   "source": [
    "score5 = cross_val_score(RandomForestClassifier(n_estimators=60), digits.data, digits.target, cv=10)\n",
    "np.average(score5)"
   ]
  },
  {
   "cell_type": "markdown",
   "id": "45fef9f2-8d47-4f5f-bb44-957d2a21b8da",
   "metadata": {},
   "source": [
    "Here, we can see **n_estimators=40** meaning 40 trees in random forest gives best result."
   ]
  },
  {
   "cell_type": "code",
   "execution_count": null,
   "id": "d9533126-4d76-4d17-bb46-8cf233357652",
   "metadata": {},
   "outputs": [],
   "source": []
  }
 ],
 "metadata": {
  "kernelspec": {
   "display_name": "Python 3 (ipykernel)",
   "language": "python",
   "name": "python3"
  },
  "language_info": {
   "codemirror_mode": {
    "name": "ipython",
    "version": 3
   },
   "file_extension": ".py",
   "mimetype": "text/x-python",
   "name": "python",
   "nbconvert_exporter": "python",
   "pygments_lexer": "ipython3",
   "version": "3.11.2"
  }
 },
 "nbformat": 4,
 "nbformat_minor": 5
}
