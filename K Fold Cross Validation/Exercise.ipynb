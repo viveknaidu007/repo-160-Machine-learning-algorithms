{
 "cells": [
  {
   "cell_type": "code",
   "execution_count": 1,
   "id": "b65cac03-f69e-4ec6-b7e3-e7c7252c9f22",
   "metadata": {},
   "outputs": [],
   "source": [
    "from sklearn.linear_model import LogisticRegression\n",
    "from sklearn.svm import SVC\n",
    "from sklearn.tree import DecisionTreeClassifier \n",
    "from sklearn.ensemble import RandomForestClassifier\n",
    "\n",
    "import numpy as np\n",
    "from sklearn.datasets import load_iris\n",
    "import matplotlib.pyplot as plt\n",
    "\n",
    "iris = load_iris()"
   ]
  },
  {
   "cell_type": "code",
   "execution_count": 2,
   "id": "b1c395bc-0445-40b3-822d-150306806d14",
   "metadata": {},
   "outputs": [
    {
     "data": {
      "text/plain": [
       "['DESCR',\n",
       " 'data',\n",
       " 'data_module',\n",
       " 'feature_names',\n",
       " 'filename',\n",
       " 'frame',\n",
       " 'target',\n",
       " 'target_names']"
      ]
     },
     "execution_count": 2,
     "metadata": {},
     "output_type": "execute_result"
    }
   ],
   "source": [
    "dir(iris)"
   ]
  },
  {
   "cell_type": "markdown",
   "id": "329695ef-fb41-47f8-bb66-399514f0fa3d",
   "metadata": {},
   "source": [
    "### K Fold cross validation score"
   ]
  },
  {
   "cell_type": "code",
   "execution_count": 3,
   "id": "7be2a8d1-b71b-4f8a-989c-f1912cc48080",
   "metadata": {},
   "outputs": [],
   "source": [
    "from sklearn.model_selection import cross_val_score\n",
    "# function for cross validation score\n",
    "def cross_func(model, cv):\n",
    "    return cross_val_score(model, iris.data, iris.target, cv=cv)"
   ]
  },
  {
   "cell_type": "markdown",
   "id": "615bb288-ebb8-4d9c-a7b5-f1e6e42a0c86",
   "metadata": {},
   "source": [
    "### Logistic Regression"
   ]
  },
  {
   "cell_type": "code",
   "execution_count": 4,
   "id": "8c7fc5d5-a688-4361-9e73-28650b7bf13d",
   "metadata": {},
   "outputs": [
    {
     "data": {
      "text/plain": [
       "0.9533333333333334"
      ]
     },
     "execution_count": 4,
     "metadata": {},
     "output_type": "execute_result"
    }
   ],
   "source": [
    "lr_score = cross_func(LogisticRegression(solver='liblinear', multi_class='ovr'),10)\n",
    "np.average(lr_score)"
   ]
  },
  {
   "cell_type": "markdown",
   "id": "7d96ecd4-402a-4790-9aaf-95e4a2501a3c",
   "metadata": {},
   "source": [
    "### Support Vector Machine"
   ]
  },
  {
   "cell_type": "code",
   "execution_count": 5,
   "id": "6f71b9a1-cf31-406d-adca-a8dfac1d4f80",
   "metadata": {},
   "outputs": [
    {
     "data": {
      "text/plain": [
       "0.9800000000000001"
      ]
     },
     "execution_count": 5,
     "metadata": {},
     "output_type": "execute_result"
    }
   ],
   "source": [
    "svm_score = cross_func(SVC(gamma='auto'),10)\n",
    "np.average(svm_score)"
   ]
  },
  {
   "cell_type": "markdown",
   "id": "dcaa1ecb-b88e-49bb-a269-0640c43ae947",
   "metadata": {},
   "source": [
    "### Decision Tree"
   ]
  },
  {
   "cell_type": "code",
   "execution_count": 6,
   "id": "80916677-dbf4-4381-b8b5-596bfd8715ad",
   "metadata": {},
   "outputs": [
    {
     "data": {
      "text/plain": [
       "0.96"
      ]
     },
     "execution_count": 6,
     "metadata": {},
     "output_type": "execute_result"
    }
   ],
   "source": [
    "dt_score = cross_func(DecisionTreeClassifier(criterion='entropy'),10)\n",
    "np.average(dt_score)"
   ]
  },
  {
   "cell_type": "markdown",
   "id": "74585178-aa25-4464-b336-d555fab940bb",
   "metadata": {},
   "source": [
    "### Random Forest"
   ]
  },
  {
   "cell_type": "code",
   "execution_count": 10,
   "id": "dcbe0fef-7e58-4535-ba2b-7a45b2e69f65",
   "metadata": {},
   "outputs": [
    {
     "data": {
      "text/plain": [
       "0.96"
      ]
     },
     "execution_count": 10,
     "metadata": {},
     "output_type": "execute_result"
    }
   ],
   "source": [
    "rf_score = cross_func(RandomForestClassifier(n_estimators=30),10)\n",
    "np.average(rf_score)"
   ]
  },
  {
   "cell_type": "code",
   "execution_count": 13,
   "id": "a8406fd7-e98f-43ec-a2bb-9117741e0054",
   "metadata": {},
   "outputs": [
    {
     "data": {
      "text/plain": [
       "0.9466666666666667"
      ]
     },
     "execution_count": 13,
     "metadata": {},
     "output_type": "execute_result"
    }
   ],
   "source": [
    "rf_score = cross_func(RandomForestClassifier(n_estimators=40),10)\n",
    "np.average(rf_score)"
   ]
  },
  {
   "cell_type": "code",
   "execution_count": 14,
   "id": "a86e01de-04f9-4c1e-9c91-87a65d981915",
   "metadata": {},
   "outputs": [
    {
     "data": {
      "text/plain": [
       "0.96"
      ]
     },
     "execution_count": 14,
     "metadata": {},
     "output_type": "execute_result"
    }
   ],
   "source": [
    "rf_score = cross_func(RandomForestClassifier(n_estimators=60),10)\n",
    "np.average(rf_score)"
   ]
  },
  {
   "cell_type": "markdown",
   "id": "c5c0c941-0b9c-4387-8927-47fa42dada19",
   "metadata": {},
   "source": [
    "#### Best score so far is from SVM: 0.98 (or) 98%"
   ]
  },
  {
   "cell_type": "code",
   "execution_count": null,
   "id": "73b85475-3aa8-48de-8bc6-51b85e99f8bf",
   "metadata": {},
   "outputs": [],
   "source": []
  }
 ],
 "metadata": {
  "kernelspec": {
   "display_name": "Python 3 (ipykernel)",
   "language": "python",
   "name": "python3"
  },
  "language_info": {
   "codemirror_mode": {
    "name": "ipython",
    "version": 3
   },
   "file_extension": ".py",
   "mimetype": "text/x-python",
   "name": "python",
   "nbconvert_exporter": "python",
   "pygments_lexer": "ipython3",
   "version": "3.11.2"
  }
 },
 "nbformat": 4,
 "nbformat_minor": 5
}
